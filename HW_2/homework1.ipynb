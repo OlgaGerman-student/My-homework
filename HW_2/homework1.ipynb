{
 "cells": [
  {
   "cell_type": "code",
   "execution_count": 42,
   "metadata": {},
   "outputs": [
    {
     "name": "stdout",
     "output_type": "stream",
     "text": [
      "Фраза 2 длиннее фразы 1\n"
     ]
    }
   ],
   "source": [
    "# Задание №1\n",
    "a = 'Насколько проще было бы писать программы, если бы не заказчики'\n",
    "b = '640Кб должно хватить для любых задач. Билл Гейтс (по легенде)'\n",
    "if (len(a)) > (len(b)):\n",
    "    print ('Фраза 1 длиннее фразы 2')\n",
    "else:\n",
    "    print (\"Фраза 2 длиннее фразы 1\")"
   ]
  },
  {
   "cell_type": "code",
   "execution_count": 44,
   "metadata": {},
   "outputs": [
    {
     "name": "stdout",
     "output_type": "stream",
     "text": [
      "Фраза 1 длиннее фразы 2\n"
     ]
    }
   ],
   "source": [
    "phrase_1 = '640Кб должно хватить для любых задач. Билл Гейтс (по легенде)'\n",
    "phrase_2 = 'Насколько проще было бы писать программы, если бы не заказчики'\n",
    "if (len(phrase_1)) > (len(phrase_2)):\n",
    "    print (\"Фраза 1 длиннее фразы 2\")\n",
    "else:\n",
    "    print (\"Фраза 2 длиннее фразы 1\")"
   ]
  },
  {
   "cell_type": "code",
   "execution_count": 50,
   "metadata": {},
   "outputs": [
    {
     "name": "stdout",
     "output_type": "stream",
     "text": [
      "Фразы равной длины\n"
     ]
    }
   ],
   "source": [
    "phrase_1 = 'Насколько проще было бы писать программы, если бы не заказчики'\n",
    "phrase_2 = 'Насколько проще было бы писать программы, если бы не заказчики'\n",
    "if (len(phrase_1)) > (len(phrase_2)):\n",
    "    print (\"Фраза 1 длиннее фразы 2\")\n",
    "elif (len(phrase_1)) == (len(phrase_2)):\n",
    "    print (\"Фразы равной длины\")\n",
    "else:\n",
    "    print (\"Фраза 2 длиннее фразы 1\")"
   ]
  },
  {
   "cell_type": "code",
   "execution_count": 32,
   "metadata": {},
   "outputs": [
    {
     "name": "stdout",
     "output_type": "stream",
     "text": [
      "введите год 2020\n",
      "Високосный год\n"
     ]
    }
   ],
   "source": [
    "# Задание №2\n",
    "x = int(input('введите год '))\n",
    "if x % 4 == 0 and x % 100 != 0 or x % 400 == 0: \n",
    "    print ('Високосный год')\n",
    "else:\n",
    "    print ('Обычный год')"
   ]
  },
  {
   "cell_type": "code",
   "execution_count": 49,
   "metadata": {},
   "outputs": [
    {
     "name": "stdout",
     "output_type": "stream",
     "text": [
      "Введите день рождения:19\n",
      "Введите месяц рождения:11\n",
      "Знак зодиака:Скорпион\n"
     ]
    }
   ],
   "source": [
    "# Задание №3\n",
    "date=int(input(\"Введите день рождения:\"))\n",
    "\n",
    "month=int(input(\"Введите месяц рождения:\"))\n",
    "\n",
    "if (date >= 21 and date <= 31 and month == 3) or( month == 4 and date >= 1 and date <= 19):\n",
    "\n",
    "   print(\"Знак зодиака:Овен\")\n",
    "\n",
    "elif (date >= 20 and date <= 30 and month == 4) or( month == 5 and date >= 1 and date <= 20):\n",
    "\n",
    "   print(\"Знак зодиака:Телец\")\n",
    "\n",
    "elif (date >= 21 and date <= 31 and month == 5) or( month == 6 and date >= 1 and date <= 21):\n",
    "\n",
    "   print(\"Знак зодиака:Близнецы\")\n",
    "\n",
    "elif (date >= 22 and date <= 30 and month == 6) or( month == 7 and date >= 1 and date <= 22):\n",
    "\n",
    "   print(\"Знак зодиака:Рак\")\n",
    "\n",
    "elif (date >= 23 and date <= 31 and month == 7) or( month == 8 and date >= 1 and date <= 22):\n",
    "\n",
    "   print(\"Знак зодиака:Лев\")\n",
    "\n",
    "elif (date >= 23 and date <= 31 and month == 8) or( month == 9 and date >= 1 and date <= 22):\n",
    "\n",
    "   print(\"Знак зодиака:Дева\")\n",
    "\n",
    "elif (date >= 23 and date <= 30 and month == 9) or( month == 10 and date >= 1 and date <= 23):\n",
    "\n",
    "   print(\"Знак зодиака:Весы\")\n",
    "\n",
    "elif (date >= 24 and date <= 31 and month == 10) or( month == 11 and date >= 1 and date <= 22):\n",
    "\n",
    "   print(\"Знак зодиака:Скорпион\")\n",
    "\n",
    "elif (date >= 23 and date <= 30 and month == 11) or( month == 12 and date >= 1 and date <= 21):\n",
    "\n",
    "   print(\"Знак зодиака:Стрелец\")\n",
    "\n",
    "elif (date >= 22 and date <= 31 and month == 12) or( month == 1 and date >= 1 and date <= 20):\n",
    "\n",
    "   print(\"Знак зодиака:Козерог\")\n",
    "\n",
    "elif (date >= 21 and date <= 31 and month == 1) or( month == 2 and date >= 1 and date <= 18):\n",
    "\n",
    "   print(\"Знак зодиака:Водолей\")\n",
    "\n",
    "elif (date >= 19 and date <= 29 and month == 2) or( month == 3 and date >= 1 and date <= 20):\n",
    "\n",
    "   print(\"Знак зодиака:Рыбы\")"
   ]
  },
  {
   "cell_type": "code",
   "execution_count": 6,
   "metadata": {},
   "outputs": [
    {
     "name": "stdout",
     "output_type": "stream",
     "text": [
      "Коробка №2\n"
     ]
    }
   ],
   "source": [
    "# Задание №4\n",
    "width = 21\n",
    "length = 20\n",
    "height = 5\n",
    "if (length >=200):\n",
    "    print ('Упаковка для лыж')\n",
    "elif (width <=15 and length <=15 and height<=15):\n",
    "    print ('Коробка №1')\n",
    "elif (16<width<50 or 16<length<50 or 16<heidht<50):\n",
    "    print (\"Коробка №2\")\n",
    "else:\n",
    "    print (\"Коробка №3\")\n"
   ]
  },
  {
   "cell_type": "code",
   "execution_count": null,
   "metadata": {},
   "outputs": [],
   "source": [
    "# Задание №5\n",
    "x = str(input('введите номер билета'))\n",
    "sum_1=int(x[0])+int(x[1])+int(x[2])\n",
    "sum_2=int(x[3])+int(x[4])+int(x[5])\n",
    "if sum_1 == sum_2:\n",
    "    print ('Счастливый билет')\n",
    "else:\n",
    "    print (\"Обычный билет\")"
   ]
  }
 ],
 "metadata": {
  "kernelspec": {
   "display_name": "Python 3",
   "language": "python",
   "name": "python3"
  },
  "language_info": {
   "codemirror_mode": {
    "name": "ipython",
    "version": 3
   },
   "file_extension": ".py",
   "mimetype": "text/x-python",
   "name": "python",
   "nbconvert_exporter": "python",
   "pygments_lexer": "ipython3",
   "version": "3.8.5"
  }
 },
 "nbformat": 4,
 "nbformat_minor": 4
}
